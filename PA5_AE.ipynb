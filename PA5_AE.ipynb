{
 "cells": [
  {
   "cell_type": "markdown",
   "id": "f16b20c4",
   "metadata": {},
   "source": [
    "* Ari G. Eastman\n",
    "* Assignment 5\n",
    "* Version 1\n",
    "* Fall 2023"
   ]
  },
  {
   "cell_type": "markdown",
   "id": "b476b469",
   "metadata": {},
   "source": [
    "## Working with Dictionaries"
   ]
  },
  {
   "cell_type": "markdown",
   "id": "c7474009",
   "metadata": {},
   "source": [
    "## Task 1"
   ]
  },
  {
   "cell_type": "code",
   "execution_count": 1,
   "id": "47fa809b",
   "metadata": {},
   "outputs": [
    {
     "name": "stdout",
     "output_type": "stream",
     "text": [
      "\n",
      "Enter a word to translate from English to French (Enter 0 to stop): green\n",
      "The French word for green is outside this dictionary.\n",
      "\n",
      "Enter a word to translate from English to French (Enter 0 to stop): apple\n",
      "The French word for apple is pomme.\n",
      "\n",
      "Enter a word to translate from English to French (Enter 0 to stop): bed\n",
      "The French word for bed is lit.\n",
      "\n",
      "Enter a word to translate from English to French (Enter 0 to stop): 0\n"
     ]
    }
   ],
   "source": [
    "data = {'apple':'pomme',\n",
    "'pear':'poire',\n",
    "'bed':'lit',\n",
    "'blanket':'couverture',\n",
    "'cloud':'nuage'}\n",
    "\n",
    "prompt = \"\\nEnter a word to translate from English to French (Enter 0 to stop): \"\n",
    "active= True\n",
    "while active:\n",
    "    word=input(prompt)\n",
    "    if word=='0':\n",
    "        break\n",
    "    if word in data:\n",
    "        print(f'The French word for {word} is {data[word]}.')\n",
    "    else:\n",
    "        print(f'The French word for {word} is outside this dictionary.')"
   ]
  },
  {
   "cell_type": "markdown",
   "id": "02455db0",
   "metadata": {},
   "source": [
    "## Task 2"
   ]
  },
  {
   "cell_type": "code",
   "execution_count": 2,
   "id": "6ed8fc3d",
   "metadata": {},
   "outputs": [
    {
     "data": {
      "text/plain": [
       "[30.555555555555557,\n",
       " 32.77777777777778,\n",
       " 32.77777777777778,\n",
       " 33.333333333333336,\n",
       " 31.11111111111111,\n",
       " 28.333333333333332,\n",
       " 25.0,\n",
       " 27.77777777777778,\n",
       " 26.11111111111111,\n",
       " 28.88888888888889,\n",
       " 30.555555555555557,\n",
       " 25.555555555555557,\n",
       " 27.22222222222222,\n",
       " 27.77777777777778,\n",
       " 27.22222222222222,\n",
       " 27.77777777777778,\n",
       " 25.555555555555557,\n",
       " 26.11111111111111,\n",
       " 27.22222222222222,\n",
       " 29.444444444444443,\n",
       " 29.444444444444443,\n",
       " 31.11111111111111,\n",
       " 27.77777777777778,\n",
       " 28.88888888888889,\n",
       " 30.0,\n",
       " 31.666666666666668,\n",
       " 26.666666666666668,\n",
       " 27.22222222222222,\n",
       " 28.88888888888889,\n",
       " 29.444444444444443]"
      ]
     },
     "execution_count": 2,
     "metadata": {},
     "output_type": "execute_result"
    }
   ],
   "source": [
    "temp_dict={'Day1':87,\n",
    "           'Day2':91,\n",
    "           'Day3':91,\n",
    "           'Day4':92,\n",
    "           'Day5':88,\n",
    "           'Day6':83,\n",
    "           'Day7':77,\n",
    "           'Day8':82,\n",
    "           'Day9':79,\n",
    "           'Day10':84,\n",
    "           'Day11':87,\n",
    "           'Day12':78, \n",
    "           'Day13':81,\n",
    "           'Day14':82,\n",
    "           'Day15':81,\n",
    "           'Day16':82,\n",
    "           'Day17':78,\n",
    "           'Day18':79,\n",
    "           'Day19':81,\n",
    "           'Day20':85,\n",
    "           'Day21':85,\n",
    "           'Day22':88,\n",
    "           'Day23':82,\n",
    "           'Day24':84,\n",
    "           'Day25':86,\n",
    "           'Day26':89,\n",
    "           'Day27':80,\n",
    "           'Day28':81,\n",
    "           'Day29':84,\n",
    "           'Day30':85}\n",
    "[(val - 32) * 5/9 for val, val in temp_dict.items()]"
   ]
  },
  {
   "cell_type": "markdown",
   "id": "12e7673a",
   "metadata": {},
   "source": [
    "## Task 3"
   ]
  },
  {
   "cell_type": "code",
   "execution_count": 3,
   "id": "4b8cfe4f",
   "metadata": {},
   "outputs": [
    {
     "name": "stdout",
     "output_type": "stream",
     "text": [
      "{1: 1, 2: 4, 3: 9, 4: 16, 5: 25, 6: 36, 7: 49, 8: 64, 9: 81, 10: 100, 11: 121, 12: 144, 13: 169, 14: 196, 15: 225}\n"
     ]
    }
   ],
   "source": [
    "dict={}\n",
    "for x in range(1,16):\n",
    "    dict[x]=x**2\n",
    "print(dict)"
   ]
  },
  {
   "cell_type": "markdown",
   "id": "33ea5ad5",
   "metadata": {},
   "source": [
    "## Task 4"
   ]
  },
  {
   "cell_type": "code",
   "execution_count": 66,
   "id": "c04cd616",
   "metadata": {},
   "outputs": [
    {
     "name": "stdout",
     "output_type": "stream",
     "text": [
      "What is Your Name?: Ari\n",
      "What is Your Age?: 19\n",
      "Enter Your Email: Ari@\n",
      "Enter Your City: Lou\n",
      "{'Ari': (19, 'Ari@', 'Lou')}\n",
      "Would You like to add another Entry?: (Yes/No)no\n",
      "{'Ari': (19, 'Ari@', 'Lou')}\n",
      "enter a User: Ari\n",
      "User Found: Ari\n"
     ]
    }
   ],
   "source": [
    "User_profiles={}\n",
    "poll=True\n",
    "while poll:\n",
    "    name= input(\"What is Your Name?: \")\n",
    "    Age= int(input(\"What is Your Age?: \"))\n",
    "    Email=input(\"Enter Your Email: \")\n",
    "    City=input(\"Enter Your City: \")\n",
    "    User_profiles.update({name:(Age, Email, City)})\n",
    "    print(User_profiles)\n",
    "    repeat=input(\"Would You like to add another Entry?: (Yes/No)\")\n",
    "    if repeat=='no':\n",
    "        poll=False\n",
    "print(User_profiles)\n",
    "\n",
    "User = input('enter a User: ')\n",
    "for USER in User_profiles:\n",
    "    if User==USER:\n",
    "        print(f\"User Found: {USER}\")\n",
    "    elif User !=USER:\n",
    "        print(\"User Not Found\")"
   ]
  }
 ],
 "metadata": {
  "kernelspec": {
   "display_name": "Python 3 (ipykernel)",
   "language": "python",
   "name": "python3"
  },
  "language_info": {
   "codemirror_mode": {
    "name": "ipython",
    "version": 3
   },
   "file_extension": ".py",
   "mimetype": "text/x-python",
   "name": "python",
   "nbconvert_exporter": "python",
   "pygments_lexer": "ipython3",
   "version": "3.11.4"
  }
 },
 "nbformat": 4,
 "nbformat_minor": 5
}
